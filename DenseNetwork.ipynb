{
 "cells": [
  {
   "cell_type": "code",
   "execution_count": null,
   "id": "872ae468",
   "metadata": {},
   "outputs": [],
   "source": [
    "import numpy as np\n",
    "\n",
    "class DenseLayer:\n",
    "    def __init__(self, input_size, output_size):\n",
    "        self.input_size = input_size\n",
    "        self.output_size = output_size\n",
    "        self.weights = None\n",
    "        self.bias = None\n",
    "        self.activation = None\n",
    "    \n",
    "    def activation_(self, activation):\n",
    "        self.activation = activation\n",
    "    \n",
    "    def initialize_parameters(self):\n",
    "        self.weights = np.random.randn(self.input_size, self.output_size)\n",
    "        self.bias = np.zeros(self.output_size)\n",
    "    \n",
    "    def forward(self, inputs):\n",
    "        self.inputs = inputs\n",
    "        self.z = np.dot(inputs, self.weights) + self.bias\n",
    "        self.a = self.activation(self.z) if self.activation is not None else self.z\n",
    "        return self.a\n",
    "    \n",
    "    def backward(self, output_gradients, learning_rate):\n",
    "        delta = output_gradients * self.activation.gradient(self.z) if self.activation is not None else output_gradients\n",
    "        input_gradients = np.dot(delta, self.weights.T)\n",
    "        return input_gradients\n",
    "\n",
    "\n",
    "class DenseNetwork:\n",
    "    def __init__(self, layers):\n",
    "        self.layers = layers\n",
    "    \n",
    "    def loss(self, loss, loss_gradient):\n",
    "        self.loss = loss\n",
    "        self.loss_gradient = loss_gradient\n",
    "    \n",
    "    def fit(self, X, y, learning_rate, num_epochs, batch_size = None):\n",
    "        pass\n",
    "    \n",
    "    def predict(self, X):\n",
    "        pass"
   ]
  }
 ],
 "metadata": {
  "kernelspec": {
   "display_name": "Python 3 (ipykernel)",
   "language": "python",
   "name": "python3"
  },
  "language_info": {
   "codemirror_mode": {
    "name": "ipython",
    "version": 3
   },
   "file_extension": ".py",
   "mimetype": "text/x-python",
   "name": "python",
   "nbconvert_exporter": "python",
   "pygments_lexer": "ipython3",
   "version": "3.9.13"
  }
 },
 "nbformat": 4,
 "nbformat_minor": 5
}
